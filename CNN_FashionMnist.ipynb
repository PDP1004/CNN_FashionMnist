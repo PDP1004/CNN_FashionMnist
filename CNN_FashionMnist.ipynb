{
  "nbformat": 4,
  "nbformat_minor": 0,
  "metadata": {
    "colab": {
      "name": "CNN_FashionMnist.ipynb",
      "provenance": [],
      "authorship_tag": "ABX9TyM+ym7WN4jxMnd2hAzbnO3s",
      "include_colab_link": true
    },
    "kernelspec": {
      "name": "python3",
      "display_name": "Python 3"
    },
    "language_info": {
      "name": "python"
    },
    "accelerator": "GPU"
  },
  "cells": [
    {
      "cell_type": "markdown",
      "metadata": {
        "id": "view-in-github",
        "colab_type": "text"
      },
      "source": [
        "<a href=\"https://colab.research.google.com/github/PDP1004/CNN_FashionMnist/blob/main/CNN_FashionMnist.ipynb\" target=\"_parent\"><img src=\"https://colab.research.google.com/assets/colab-badge.svg\" alt=\"Open In Colab\"/></a>"
      ]
    },
    {
      "cell_type": "code",
      "execution_count": 6,
      "metadata": {
        "id": "cxuSxp9Qcz18"
      },
      "outputs": [],
      "source": [
        "import numpy as np\n",
        "import tensorflow as tf\n",
        "import matplotlib.pyplot as plt\n",
        "from keras.utils import np_utils\n",
        "from keras.datasets import fashion_mnist\n",
        "from keras.models import Sequential\n",
        "from keras.layers import Dense, Dropout\n",
        "from keras.layers.core.dropout import Dropout\n",
        "from tensorflow.keras.optimizers import RMSprop, SGD\n",
        "from tensorflow.keras.layers import Conv2D, MaxPooling2D, Flatten\n"
      ]
    },
    {
      "cell_type": "code",
      "source": [
        "#Chia dữ liệu\n",
        "(x_train, y_train),(x_test,y_test) = fashion_mnist.load_data()\n",
        "print('Kích thước x_train: ', x_train.shape)\n",
        "print('Kích thước y_train: ', y_train.shape)\n",
        "print('Kích thước x_test: ', x_test.shape)\n",
        "print('Kích thước y_test: ', y_test.shape)"
      ],
      "metadata": {
        "colab": {
          "base_uri": "https://localhost:8080/"
        },
        "id": "_-M7E1_IdYki",
        "outputId": "244c1688-1c3b-4819-92ad-f6f4bbb19a65"
      },
      "execution_count": 7,
      "outputs": [
        {
          "output_type": "stream",
          "name": "stdout",
          "text": [
            "Kích thước x_train:  (60000, 28, 28)\n",
            "Kích thước y_train:  (60000,)\n",
            "Kích thước x_test:  (10000, 28, 28)\n",
            "Kích thước y_test:  (10000,)\n"
          ]
        }
      ]
    },
    {
      "cell_type": "code",
      "source": [
        "#Chuẩn hóa dữ liệu\n",
        "x_train = x_train.astype('float32')\n",
        "x_test = x_test.astype('float32')\n",
        "\n",
        "x_train = x_train/255\n",
        "x_test = x_test/255\n",
        "\n",
        "y_train = np_utils.to_categorical(y_train,100)\n",
        "y_test = np_utils.to_categorical(y_test,100)\n",
        "\n",
        "print('Kích thước x_train: ', x_train.shape)\n",
        "print('Kích thước y_train: ', y_train.shape)\n",
        "print('Kích thước x_test: ', x_test.shape)\n",
        "print('Kích thước y_test: ', y_test.shape)"
      ],
      "metadata": {
        "colab": {
          "base_uri": "https://localhost:8080/"
        },
        "id": "lTW-ZvV9dlCr",
        "outputId": "1ad8a6ca-a9d6-4b39-db85-51e7a50923c4"
      },
      "execution_count": 8,
      "outputs": [
        {
          "output_type": "stream",
          "name": "stdout",
          "text": [
            "Kích thước x_train:  (60000, 28, 28)\n",
            "Kích thước y_train:  (60000, 100)\n",
            "Kích thước x_test:  (10000, 28, 28)\n",
            "Kích thước y_test:  (10000, 100)\n"
          ]
        }
      ]
    },
    {
      "cell_type": "code",
      "source": [
        "model = Sequential()\n",
        "model.add(Conv2D(32, (3, 3), activation='relu', kernel_initializer='he_uniform', input_shape=(28, 28, 1)))\n",
        "model.add(MaxPooling2D((2, 2)))\n",
        "model.add(Flatten())\n",
        "model.add(Dense(32, activation='relu', kernel_initializer='he_uniform'))\n",
        "model.add(Dense(100, activation='softmax'))\n",
        "model.summary()"
      ],
      "metadata": {
        "colab": {
          "base_uri": "https://localhost:8080/"
        },
        "id": "Y-1y96fmdl5S",
        "outputId": "2f7ccc29-92e7-4748-ac2e-f0a87c19a560"
      },
      "execution_count": 9,
      "outputs": [
        {
          "output_type": "stream",
          "name": "stdout",
          "text": [
            "Model: \"sequential_1\"\n",
            "_________________________________________________________________\n",
            " Layer (type)                Output Shape              Param #   \n",
            "=================================================================\n",
            " conv2d_1 (Conv2D)           (None, 26, 26, 32)        320       \n",
            "                                                                 \n",
            " max_pooling2d_1 (MaxPooling  (None, 13, 13, 32)       0         \n",
            " 2D)                                                             \n",
            "                                                                 \n",
            " flatten_1 (Flatten)         (None, 5408)              0         \n",
            "                                                                 \n",
            " dense_2 (Dense)             (None, 32)                173088    \n",
            "                                                                 \n",
            " dense_3 (Dense)             (None, 100)               3300      \n",
            "                                                                 \n",
            "=================================================================\n",
            "Total params: 176,708\n",
            "Trainable params: 176,708\n",
            "Non-trainable params: 0\n",
            "_________________________________________________________________\n"
          ]
        }
      ]
    },
    {
      "cell_type": "code",
      "source": [
        "# compile model\n",
        "opt = SGD(learning_rate=0.01, momentum=0.9)\n",
        "model.compile(optimizer=opt, loss='categorical_crossentropy', metrics=['accuracy'])\n",
        "from keras.callbacks import EarlyStopping\n",
        "history = model.fit(x_train, y_train, epochs=50, batch_size=32, validation_data=(x_test, y_test), \n",
        "                    verbose=1, callbacks=[EarlyStopping(monitor='val_loss',patience=30)])"
      ],
      "metadata": {
        "colab": {
          "base_uri": "https://localhost:8080/"
        },
        "id": "quwh5Qk3fI4W",
        "outputId": "a05a6330-df60-4a6d-c4fc-10ff9e630312"
      },
      "execution_count": 10,
      "outputs": [
        {
          "output_type": "stream",
          "name": "stdout",
          "text": [
            "Epoch 1/50\n",
            "1875/1875 [==============================] - 11s 6ms/step - loss: 0.4659 - accuracy: 0.8360 - val_loss: 0.3474 - val_accuracy: 0.8766\n",
            "Epoch 2/50\n",
            "1875/1875 [==============================] - 10s 5ms/step - loss: 0.3042 - accuracy: 0.8912 - val_loss: 0.3059 - val_accuracy: 0.8902\n",
            "Epoch 3/50\n",
            "1875/1875 [==============================] - 10s 5ms/step - loss: 0.2625 - accuracy: 0.9047 - val_loss: 0.3024 - val_accuracy: 0.8915\n",
            "Epoch 4/50\n",
            "1875/1875 [==============================] - 10s 5ms/step - loss: 0.2366 - accuracy: 0.9138 - val_loss: 0.2811 - val_accuracy: 0.8991\n",
            "Epoch 5/50\n",
            "1875/1875 [==============================] - 10s 5ms/step - loss: 0.2148 - accuracy: 0.9221 - val_loss: 0.2866 - val_accuracy: 0.8998\n",
            "Epoch 6/50\n",
            "1875/1875 [==============================] - 10s 5ms/step - loss: 0.2003 - accuracy: 0.9266 - val_loss: 0.3126 - val_accuracy: 0.8899\n",
            "Epoch 7/50\n",
            "1875/1875 [==============================] - 10s 5ms/step - loss: 0.1841 - accuracy: 0.9320 - val_loss: 0.3049 - val_accuracy: 0.8920\n",
            "Epoch 8/50\n",
            "1875/1875 [==============================] - 10s 5ms/step - loss: 0.1714 - accuracy: 0.9357 - val_loss: 0.2814 - val_accuracy: 0.9064\n",
            "Epoch 9/50\n",
            "1875/1875 [==============================] - 10s 5ms/step - loss: 0.1614 - accuracy: 0.9409 - val_loss: 0.3007 - val_accuracy: 0.8953\n",
            "Epoch 10/50\n",
            "1875/1875 [==============================] - 10s 5ms/step - loss: 0.1515 - accuracy: 0.9433 - val_loss: 0.3185 - val_accuracy: 0.8925\n",
            "Epoch 11/50\n",
            "1875/1875 [==============================] - 10s 5ms/step - loss: 0.1403 - accuracy: 0.9487 - val_loss: 0.3316 - val_accuracy: 0.8947\n",
            "Epoch 12/50\n",
            "1875/1875 [==============================] - 10s 5ms/step - loss: 0.1326 - accuracy: 0.9508 - val_loss: 0.3000 - val_accuracy: 0.9087\n",
            "Epoch 13/50\n",
            "1875/1875 [==============================] - 10s 5ms/step - loss: 0.1233 - accuracy: 0.9543 - val_loss: 0.3019 - val_accuracy: 0.9080\n",
            "Epoch 14/50\n",
            "1875/1875 [==============================] - 10s 5ms/step - loss: 0.1145 - accuracy: 0.9581 - val_loss: 0.3278 - val_accuracy: 0.9028\n",
            "Epoch 15/50\n",
            "1875/1875 [==============================] - 10s 5ms/step - loss: 0.1092 - accuracy: 0.9599 - val_loss: 0.3439 - val_accuracy: 0.9025\n",
            "Epoch 16/50\n",
            "1875/1875 [==============================] - 10s 5ms/step - loss: 0.1025 - accuracy: 0.9622 - val_loss: 0.3380 - val_accuracy: 0.9033\n",
            "Epoch 17/50\n",
            "1875/1875 [==============================] - 10s 5ms/step - loss: 0.0966 - accuracy: 0.9645 - val_loss: 0.3392 - val_accuracy: 0.9020\n",
            "Epoch 18/50\n",
            "1875/1875 [==============================] - 10s 5ms/step - loss: 0.0894 - accuracy: 0.9671 - val_loss: 0.3610 - val_accuracy: 0.9017\n",
            "Epoch 19/50\n",
            "1875/1875 [==============================] - 10s 5ms/step - loss: 0.0827 - accuracy: 0.9697 - val_loss: 0.4047 - val_accuracy: 0.8984\n",
            "Epoch 20/50\n",
            "1875/1875 [==============================] - 10s 5ms/step - loss: 0.0803 - accuracy: 0.9707 - val_loss: 0.3936 - val_accuracy: 0.9051\n",
            "Epoch 21/50\n",
            "1875/1875 [==============================] - 10s 5ms/step - loss: 0.0738 - accuracy: 0.9725 - val_loss: 0.3980 - val_accuracy: 0.9021\n",
            "Epoch 22/50\n",
            "1875/1875 [==============================] - 10s 5ms/step - loss: 0.0700 - accuracy: 0.9747 - val_loss: 0.3904 - val_accuracy: 0.9034\n",
            "Epoch 23/50\n",
            "1875/1875 [==============================] - 10s 5ms/step - loss: 0.0659 - accuracy: 0.9753 - val_loss: 0.4188 - val_accuracy: 0.9065\n",
            "Epoch 24/50\n",
            "1875/1875 [==============================] - 10s 5ms/step - loss: 0.0620 - accuracy: 0.9775 - val_loss: 0.4470 - val_accuracy: 0.9066\n",
            "Epoch 25/50\n",
            "1875/1875 [==============================] - 10s 5ms/step - loss: 0.0559 - accuracy: 0.9800 - val_loss: 0.4422 - val_accuracy: 0.9018\n",
            "Epoch 26/50\n",
            "1875/1875 [==============================] - 10s 5ms/step - loss: 0.0522 - accuracy: 0.9812 - val_loss: 0.4554 - val_accuracy: 0.8986\n",
            "Epoch 27/50\n",
            "1875/1875 [==============================] - 10s 5ms/step - loss: 0.0492 - accuracy: 0.9822 - val_loss: 0.4755 - val_accuracy: 0.9041\n",
            "Epoch 28/50\n",
            "1875/1875 [==============================] - 10s 5ms/step - loss: 0.0455 - accuracy: 0.9836 - val_loss: 0.4872 - val_accuracy: 0.9017\n",
            "Epoch 29/50\n",
            "1875/1875 [==============================] - 10s 5ms/step - loss: 0.0444 - accuracy: 0.9837 - val_loss: 0.5210 - val_accuracy: 0.9028\n",
            "Epoch 30/50\n",
            "1875/1875 [==============================] - 10s 5ms/step - loss: 0.0426 - accuracy: 0.9841 - val_loss: 0.5049 - val_accuracy: 0.9021\n",
            "Epoch 31/50\n",
            "1875/1875 [==============================] - 10s 5ms/step - loss: 0.0399 - accuracy: 0.9858 - val_loss: 0.5600 - val_accuracy: 0.9012\n",
            "Epoch 32/50\n",
            "1875/1875 [==============================] - 10s 5ms/step - loss: 0.0446 - accuracy: 0.9838 - val_loss: 0.5443 - val_accuracy: 0.9022\n",
            "Epoch 33/50\n",
            "1875/1875 [==============================] - 10s 5ms/step - loss: 0.0383 - accuracy: 0.9862 - val_loss: 0.5411 - val_accuracy: 0.9044\n",
            "Epoch 34/50\n",
            "1875/1875 [==============================] - 10s 5ms/step - loss: 0.0356 - accuracy: 0.9872 - val_loss: 0.5451 - val_accuracy: 0.9069\n"
          ]
        }
      ]
    },
    {
      "cell_type": "code",
      "source": [
        "model.save('model_save/CNN_FashionMnist.h5')"
      ],
      "metadata": {
        "id": "oRP5qvOjfKb3"
      },
      "execution_count": 11,
      "outputs": []
    },
    {
      "cell_type": "code",
      "source": [
        "score = model.evaluate(x_test,y_test,verbose=0)\n",
        "print('Sai số kiểm tra là: ',score[0])\n",
        "print('Độ chính xác kiểm tra là: ',score[1])\n",
        "plt.plot(history.history['accuracy'])\n",
        "plt.plot(history.history['val_accuracy'])\n",
        "plt.ylabel('accuracy')\n",
        "plt.xlabel('epochs')\n",
        "plt.legend(['train','Validation'])\n",
        "plt.show()"
      ],
      "metadata": {
        "colab": {
          "base_uri": "https://localhost:8080/",
          "height": 314
        },
        "id": "IPTjwaLUitTl",
        "outputId": "287af558-b01c-4e27-ddad-e523bb8b0578"
      },
      "execution_count": 12,
      "outputs": [
        {
          "output_type": "stream",
          "name": "stdout",
          "text": [
            "Sai số kiểm tra là:  0.5451070666313171\n",
            "Độ chính xác kiểm tra là:  0.9068999886512756\n"
          ]
        },
        {
          "output_type": "display_data",
          "data": {
            "text/plain": [
              "<Figure size 432x288 with 1 Axes>"
            ],
            "image/png": "[encoded data removed]"
          },
          "metadata": {
            "needs_background": "light"
          }
        }
      ]
    },
    {
      "cell_type": "code",
      "source": [
        "from keras.models import load_model\n",
        "CNN_Face=load_model('model_save/CNN_FashionMnist.h5')"
      ],
      "metadata": {
        "id": "2I2Rp2D_cfNb"
      },
      "execution_count": 14,
      "outputs": []
    }
  ]
}